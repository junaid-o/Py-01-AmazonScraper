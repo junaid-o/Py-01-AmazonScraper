{
 "cells": [
  {
   "cell_type": "markdown",
   "id": "cc33a531-a5e6-401a-843b-80db19488256",
   "metadata": {
    "jp-MarkdownHeadingCollapsed": true,
    "tags": []
   },
   "source": [
    "# Amazon"
   ]
  },
  {
   "cell_type": "code",
   "execution_count": 2,
   "id": "92471c6d-f04f-4ddc-8391-45e40f476451",
   "metadata": {},
   "outputs": [],
   "source": [
    "from flask import Flask, render_template, request,jsonify\n",
    "from flask_cors import CORS,cross_origin\n",
    "import requests\n",
    "from requests import Session \n",
    "from bs4 import BeautifulSoup as bs\n",
    "from urllib.request import urlopen as uReq\n"
   ]
  },
  {
   "cell_type": "code",
   "execution_count": 3,
   "id": "cb54cf8c-5da6-40c9-8cdd-900f08bb595f",
   "metadata": {},
   "outputs": [
    {
     "data": {
      "text/plain": [
       "<http.client.HTTPResponse at 0x2511f06bca0>"
      ]
     },
     "execution_count": 3,
     "metadata": {},
     "output_type": "execute_result"
    }
   ],
   "source": [
    "amazon_url = \"https://www.amazon.in/s?k=\"+\"book\"\n",
    "uClient = uReq(amazon_url)\n",
    "uClient"
   ]
  },
  {
   "cell_type": "code",
   "execution_count": 4,
   "id": "c8f1fbd5-515b-435d-b632-501fe9e6078d",
   "metadata": {
    "tags": []
   },
   "outputs": [],
   "source": [
    "amazonPage= uClient.read()\n",
    "amazonPage;"
   ]
  },
  {
   "cell_type": "code",
   "execution_count": 5,
   "id": "40b60893-0359-4b93-bfd3-80c7c4de0c97",
   "metadata": {
    "tags": []
   },
   "outputs": [],
   "source": [
    "uClient.close()"
   ]
  },
  {
   "cell_type": "code",
   "execution_count": 6,
   "id": "8c19fd23-0024-4f3d-ad30-d9e717f78865",
   "metadata": {
    "tags": []
   },
   "outputs": [],
   "source": [
    "amazon_html = bs(amazonPage,'html.parser')\n",
    "\n",
    "amazon_html;"
   ]
  },
  {
   "cell_type": "code",
   "execution_count": 7,
   "id": "b7631463-6968-4fbf-bc66-835e919342e1",
   "metadata": {
    "scrolled": true,
    "tags": []
   },
   "outputs": [],
   "source": [
    "# Home Page for search results\n",
    "\n",
    "bigboxes = amazon_html.findAll(\"div\", {\"class\":\"s-card-container s-overflow-hidden aok-relative puis-include-content-margin puis s-latency-cf-section s-card-border\"})\n",
    "\n",
    "bigboxes;"
   ]
  },
  {
   "cell_type": "code",
   "execution_count": 8,
   "id": "112d8534-7318-4fc2-9eec-5cce5a1c6fb6",
   "metadata": {},
   "outputs": [
    {
     "data": {
      "text/plain": [
       "16"
      ]
     },
     "execution_count": 8,
     "metadata": {},
     "output_type": "execute_result"
    }
   ],
   "source": [
    "len(bigboxes)"
   ]
  },
  {
   "cell_type": "raw",
   "id": "42561625-52e9-4a66-b6d5-e95a9c3db753",
   "metadata": {
    "tags": []
   },
   "source": [
    "del bigboxes[0:3]"
   ]
  },
  {
   "cell_type": "code",
   "execution_count": 9,
   "id": "f25d3465-9001-4388-839a-505eb97f8d20",
   "metadata": {
    "tags": []
   },
   "outputs": [],
   "source": [
    "box = bigboxes[0]\n",
    "box;"
   ]
  },
  {
   "cell_type": "code",
   "execution_count": null,
   "id": "b07eca17-0dc7-415f-9c32-9583bafee69f",
   "metadata": {
    "tags": []
   },
   "outputs": [],
   "source": []
  },
  {
   "cell_type": "code",
   "execution_count": 10,
   "id": "2b1ad4a1-aaa6-43dd-a2dc-debb3fca0157",
   "metadata": {
    "scrolled": true,
    "tags": []
   },
   "outputs": [],
   "source": [
    "box;"
   ]
  },
  {
   "cell_type": "code",
   "execution_count": 11,
   "id": "928cb7db-6483-4e24-93c1-2aaadac75df0",
   "metadata": {},
   "outputs": [
    {
     "data": {
      "text/plain": [
       "'https://www.amazon.in/Do-Today-procrastination-productivity-meaningful/dp/0143452126'"
      ]
     },
     "execution_count": 11,
     "metadata": {},
     "output_type": "execute_result"
    }
   ],
   "source": [
    "productLink = \"https://www.amazon.in\"+ box.div.div.div.div.a[\"href\"]\n",
    "productLink"
   ]
  },
  {
   "cell_type": "code",
   "execution_count": 12,
   "id": "96743a85-4e24-41fd-8918-c182258d35ba",
   "metadata": {},
   "outputs": [
    {
     "data": {
      "text/plain": [
       "'https://www.amazon.in/Do-Today-procrastination-productivity-meaningful/product-reviews/0143452126'"
      ]
     },
     "execution_count": 12,
     "metadata": {},
     "output_type": "execute_result"
    }
   ],
   "source": [
    "###### Accepted\n",
    "# Generating link for all reviews page\n",
    "\n",
    "#productLink.index(\"dp/\")\n",
    "index = productLink.find('dp/')\n",
    "new = productLink[:index] + \"product-reviews\" + productLink[index+2:]\n",
    "new"
   ]
  },
  {
   "cell_type": "code",
   "execution_count": 13,
   "id": "c1afe0df-6dbc-4c48-91d4-f684eb74112b",
   "metadata": {},
   "outputs": [],
   "source": [
    "next_review_page1 = \"https://www.amazon.in/Do-Today-procrastination-productivity-meaningful/product-reviews/0143452126/ref=cm_cr_arp_d_paging_btm_2?ie=UTF8&pageNumber=4&reviewerType=all_reviews\""
   ]
  },
  {
   "cell_type": "code",
   "execution_count": 23,
   "id": "08bb2ed1-b316-4238-ba84-f7487b863b6d",
   "metadata": {},
   "outputs": [
    {
     "data": {
      "text/plain": [
       "'https://www.amazon.in/Do-Today-procrastination-productivity-meaningful/product-reviews/0143452126/ref=cm_cr_arp_d_paging_btm_2?ie=UTF8&pageNumber=10&reviewerType=all_reviews'"
      ]
     },
     "execution_count": 23,
     "metadata": {},
     "output_type": "execute_result"
    }
   ],
   "source": [
    "count=10\n",
    "new_link + f\"/ref=cm_cr_arp_d_paging_btm_2?ie=UTF8&pageNumber={count}&reviewerType=all_reviews\""
   ]
  },
  {
   "cell_type": "code",
   "execution_count": 24,
   "id": "f039b4b6-2831-462b-8a6e-26dccbd9c06f",
   "metadata": {},
   "outputs": [
    {
     "name": "stdout",
     "output_type": "stream",
     "text": [
      "https://www.amazon.in/Do-Today-procrastination-productivity-meaningful/product-reviews/0143452126/ref=cm_cr_arp_d_paging_btm_2?ie=UTF8&pageNumber=1&reviewerType=all_reviews\n"
     ]
    }
   ],
   "source": [
    "index = productLink.find('dp/')\n",
    "new_link = productLink[:index] + \"product-reviews\" + productLink[index+2:]\n",
    "next_review_page = new_link + \"/ref=cm_cr_arp_d_paging_btm_2?ie=UTF8&pageNumber=5&reviewerType=all_reviews\"\n",
    "next_review_page\n",
    "count=1\n",
    "while True:\n",
    "    try:\n",
    "        next_review_page = new_link + f\"/ref=cm_cr_arp_d_paging_btm_2?ie=UTF8&pageNumber={count}&reviewerType=all_reviews\"\n",
    "        print(next_review_page)\n",
    "        #continue\n",
    "    except:\n",
    "        print(\"exceed\")\n",
    "        count +=1\n",
    "    break\n",
    "    "
   ]
  },
  {
   "cell_type": "code",
   "execution_count": null,
   "id": "28f1c640-d46c-405d-b786-6c92f4d81f4d",
   "metadata": {},
   "outputs": [],
   "source": [
    "# First Next Button on all reviews page\n",
    "#href=\"/Do-Today-procrastination-productivity-meaningful/product-reviews/0143452126/ref=cm_cr_arp_d_paging_btm_2?ie=UTF8&amp;pageNumber=2&amp;reviewerType=all_reviews\"\n",
    "first_next = \"/ref=cm_cr_arp_d_paging_btm_2?ie=UTF8&amp;pageNumber=2&amp;reviewerType=all_reviews\""
   ]
  },
  {
   "cell_type": "code",
   "execution_count": 11,
   "id": "971d0e48-f1ce-4de7-86b2-4f40277ec09c",
   "metadata": {
    "tags": []
   },
   "outputs": [],
   "source": [
    "headers = { \n",
    "\t\t\t\"accept\": \"text/html,application/xhtml+xml,application/xml;q=0.9,image/avif,image/webp,image/apng,*/*;q=0.8,application/signed-exchange;v=b3;q=0.9\", \n",
    "\t\t\t\"accept-encoding\": \"gzip, deflate, br\", \n",
    "\t\t\t\"accept-language\": \"en\", \n",
    "\t\t\t\"user-agent\": \"Mozilla/5.0 (Linux; Android 6.0; Nexus 5 Build/MRA58N) AppleWebKit/537.36 (KHTML, like Gecko) Chrome/108.0.0.0 Mobile Safari/537.36\", \n",
    "\t\t}\n",
    "\n",
    "session = Session()\n",
    "session.headers= headers"
   ]
  },
  {
   "cell_type": "code",
   "execution_count": null,
   "id": "34826956-985f-4f35-bbed-89587a24afdf",
   "metadata": {},
   "outputs": [],
   "source": []
  },
  {
   "cell_type": "code",
   "execution_count": 12,
   "id": "28b4937f-22c9-48bf-81e1-6aa1cbe206df",
   "metadata": {},
   "outputs": [
    {
     "data": {
      "text/plain": [
       "<Response [200]>"
      ]
     },
     "execution_count": 12,
     "metadata": {},
     "output_type": "execute_result"
    }
   ],
   "source": [
    "\n",
    "prodRes = session.get(productLink)\n",
    "prodRes"
   ]
  },
  {
   "cell_type": "code",
   "execution_count": 13,
   "id": "9f52493c-ef5a-4fdc-bce9-849f37c35c61",
   "metadata": {},
   "outputs": [
    {
     "name": "stdout",
     "output_type": "stream",
     "text": [
      "200\n"
     ]
    }
   ],
   "source": [
    "print(prodRes.status_code)"
   ]
  },
  {
   "cell_type": "code",
   "execution_count": 14,
   "id": "3610130d-02cd-4b72-ab54-af162d76bca2",
   "metadata": {},
   "outputs": [],
   "source": [
    "#############################################################################################\n",
    "############################################################################################################################\n",
    "#############################################################################################\n",
    "\n",
    "\n",
    "prodRes.encoding='utf-8'"
   ]
  },
  {
   "cell_type": "code",
   "execution_count": 15,
   "id": "e2b044a6-fa15-440a-ba59-3baaebacf9a5",
   "metadata": {},
   "outputs": [],
   "source": [
    "prod_html = bs(prodRes.text, \"html.parser\")"
   ]
  },
  {
   "cell_type": "code",
   "execution_count": 16,
   "id": "dae0d7b0-46da-4481-b598-23db844ad970",
   "metadata": {
    "tags": []
   },
   "outputs": [],
   "source": [
    "prod_html;"
   ]
  },
  {
   "cell_type": "raw",
   "id": "d972371e-2f79-421c-a83f-556c71f6a796",
   "metadata": {
    "tags": []
   },
   "source": [
    "commentBox = prod_html.findAll(\"div\", attrs={\"class\":\"a-section a-spacing-none cm-cr-truncated-reviews mostHelpfulReviewsFeature\"})\n",
    "commentBox;"
   ]
  },
  {
   "cell_type": "code",
   "execution_count": 27,
   "id": "8c9304e0-1d8d-48f2-a3ba-ba83cb0ae8bb",
   "metadata": {
    "tags": []
   },
   "outputs": [
    {
     "data": {
      "text/plain": [
       "[<span class=\"a-profile-name\">Arushi Kulshreshtha</span>,\n",
       " <span class=\"a-profile-name\">Ravi Kumar</span>,\n",
       " <span class=\"a-profile-name\">Venkata Sri Krishna Kona</span>,\n",
       " <span class=\"a-profile-name\">Sean P Flatley</span>,\n",
       " <span class=\"a-profile-name\">Moses</span>,\n",
       " <span class=\"a-profile-name\">Sam</span>,\n",
       " <span class=\"a-profile-name\">Petra Nistorescu</span>,\n",
       " <span class=\"a-profile-name\">Cliente Kindle</span>]"
      ]
     },
     "execution_count": 27,
     "metadata": {},
     "output_type": "execute_result"
    }
   ],
   "source": [
    "profileName = prod_html.findAll(\"span\", {\"class\":\"a-profile-name\"})\n",
    "profileName"
   ]
  },
  {
   "cell_type": "code",
   "execution_count": 18,
   "id": "81fe7120-0e80-47ae-bbca-4339b8088e6e",
   "metadata": {
    "tags": []
   },
   "outputs": [
    {
     "data": {
      "text/plain": [
       "8"
      ]
     },
     "execution_count": 18,
     "metadata": {},
     "output_type": "execute_result"
    }
   ],
   "source": [
    "len(profileName)"
   ]
  },
  {
   "cell_type": "code",
   "execution_count": 57,
   "id": "f4f6e7fd-d597-4352-9612-ba3447bc0e8e",
   "metadata": {
    "tags": []
   },
   "outputs": [
    {
     "data": {
      "text/plain": [
       "[]"
      ]
     },
     "execution_count": 57,
     "metadata": {},
     "output_type": "execute_result"
    }
   ],
   "source": [
    "#prod_html.findAll(\"a\",{'class': \"a-link-emphasis\"})\n",
    "#prod_html.findAll(\"a\",{'data-hook': \"see-all-reviews\"})\n",
    "prod_html.findAll(\"a\",{\"data-hook\",\"see-all-reviews-link-foot\"})"
   ]
  },
  {
   "cell_type": "code",
   "execution_count": null,
   "id": "7846d76c-b9a5-4136-b837-e8fb54348b30",
   "metadata": {},
   "outputs": [],
   "source": []
  },
  {
   "cell_type": "raw",
   "id": "ec7aaa0d-bd39-44e3-9486-b2e7ee791db9",
   "metadata": {
    "tags": []
   },
   "source": [
    "del commentBox[0:3]"
   ]
  },
  {
   "cell_type": "code",
   "execution_count": 66,
   "id": "3f94fdc3-1f6a-4a3e-8599-a87d9e83ea41",
   "metadata": {
    "tags": []
   },
   "outputs": [],
   "source": [
    "reviews = prod_html.findAll(\"span\", {\"class\":\"cr-original-review-content\"})\n",
    "reviews;"
   ]
  },
  {
   "cell_type": "code",
   "execution_count": 61,
   "id": "34eae1e1-1cb6-4785-b30c-34e1d279eece",
   "metadata": {
    "tags": []
   },
   "outputs": [],
   "source": [
    "prod_html.findAll(\"span\", {\"class\":\"a-icon-alt\"});\n"
   ]
  },
  {
   "cell_type": "code",
   "execution_count": 62,
   "id": "e7362c85-f68f-4340-9a31-cb4f68f50d86",
   "metadata": {
    "tags": []
   },
   "outputs": [],
   "source": [
    "prod_html.findAll('span',{'class':\"a-size-base review-title-content a-color-base a-text-bold\",'data-hook':\"review-title\"});"
   ]
  },
  {
   "cell_type": "code",
   "execution_count": 63,
   "id": "1d80b894-cefe-4461-91d5-499ca4df25a5",
   "metadata": {},
   "outputs": [],
   "source": [
    "import pandas as pd\n",
    "#dic = {'Name':[],'Rating':[],'Review_title':[],'Review':[]}\n",
    "dic = {'Name':[],'Rating':[],'Review':[]}"
   ]
  },
  {
   "cell_type": "code",
   "execution_count": 64,
   "id": "dff40c61",
   "metadata": {},
   "outputs": [
    {
     "name": "stdout",
     "output_type": "stream",
     "text": [
      "A great book to read and to reread again\n",
      "\n",
      "\n",
      "I love this book as I was hooked from the word go and read it in one day.How and why?Yes, I am dyslexic and struggle to read but this book blew me away as it was so easy to read and straight to the point.I learnt a lot from this book and intend to use the coaching mentoring guidance tips from this amazing non-fiction author.Best wishes Sean 👏🙏💪🌈☘\n",
      "\n",
      "Great read\n",
      "\n",
      "\n",
      "Enjoyed and will apply it to my daily life. His blog articles from Medium and his webpage inspired me read all his three books. Learned the idea of pragmatism which was new to me compared to stoicism which is so famous now. Much more to learn and apply from this book. Will re-read all 3 books as repetition is also encouraged by the author.\n",
      "\n",
      "loved this!\n",
      "\n",
      "\n",
      "Really good informative book and easy to read. Very interesting loved it. Recommend to anyone feeling like there at a dead end\n",
      "\n",
      "Great tips!\n",
      "\n",
      "\n",
      "Beautiful written and easy steps to be learnt.I am terrible procrastinator, and I do hope I will apply some of Darius ideas as they really are, no brained!\n",
      "\n"
     ]
    }
   ],
   "source": [
    "#import pandas as pd\n",
    "#dic = {'Name':[],'Rating':[],'Review_title':[],'Review':[]}\n",
    "dic = {'Name':[],'Rating':[],'Review':[]}\n",
    "\n",
    "\n",
    "\n",
    "for i in range(len(profileName)):\n",
    "    name = prod_html.findAll(\"span\", {\"class\":\"a-profile-name\"})[i].text\n",
    "    Review_title = prod_html.findAll('span',{'class':\"a-size-base review-title-content a-color-base a-text-bold\",'data-hook':\"review-title\"})[i].text\n",
    "    rating = prod_html.findAll(\"span\", {\"class\":\"a-icon-alt\"})[i].text\n",
    "    reviews = prod_html.findAll(\"span\", {\"class\":\"cr-original-review-content\"})[i].text\n",
    "    print(reviews)"
   ]
  },
  {
   "cell_type": "markdown",
   "id": "417f1777-205b-42a7-b71f-c46f29dfa993",
   "metadata": {
    "jp-MarkdownHeadingCollapsed": true,
    "tags": []
   },
   "source": [
    "# Amazon For Reviews\n",
    "**Loop over each product on seaarch results page**"
   ]
  },
  {
   "cell_type": "code",
   "execution_count": 1,
   "id": "c8bf8914-2ef9-423a-92c1-957d2c36ddab",
   "metadata": {},
   "outputs": [],
   "source": [
    "from flask import Flask, render_template, request,jsonify\n",
    "from flask_cors import CORS,cross_origin\n",
    "import requests\n",
    "from requests import Session \n",
    "from bs4 import BeautifulSoup as bs\n",
    "from urllib.request import urlopen as uReq\n",
    "import pandas as pd\n"
   ]
  },
  {
   "cell_type": "code",
   "execution_count": 2,
   "id": "7302fa40-5f6f-4ce5-bd75-145beaa89f7d",
   "metadata": {},
   "outputs": [],
   "source": [
    "amazon_url = \"https://www.amazon.in/s?k=\"+\"book\"\n",
    "uClient = uReq(amazon_url)\n",
    "uClient;\n",
    "amazonPage= uClient.read()\n",
    "amazonPage;\n",
    "uClient.close()"
   ]
  },
  {
   "cell_type": "code",
   "execution_count": 3,
   "id": "2e5124eb-0e8e-4f8b-a880-564622b24fe4",
   "metadata": {},
   "outputs": [],
   "source": [
    "amazon_html = bs(amazonPage,'html.parser')\n",
    "amazon_html;\n",
    "\n",
    "# Home Page for search results\n",
    "\n",
    "#bigboxes = amazon_html.findAll(\"div\", {\"class\":\"s-card-container s-overflow-hidden aok-relative puis-include-content-margin puis s-latency-cf-section s-card-border\"})\n",
    "\n",
    "bigboxes = amazon_html.findAll('div', attrs={'data-component-type':'s-search-result'})\n",
    "bigboxes;"
   ]
  },
  {
   "cell_type": "code",
   "execution_count": null,
   "id": "4efd7680-6e8e-4f89-b771-a21b71b20b92",
   "metadata": {},
   "outputs": [],
   "source": []
  },
  {
   "cell_type": "code",
   "execution_count": 4,
   "id": "2430eda2-ac0b-4a03-89fc-da46d6b9b93e",
   "metadata": {},
   "outputs": [],
   "source": [
    "headers = { \n",
    "\t\t\t\"accept\": \"text/html,application/xhtml+xml,application/xml;q=0.9,image/avif,image/webp,image/apng,*/*;q=0.8,application/signed-exchange;v=b3;q=0.9\", \n",
    "\t\t\t\"accept-encoding\": \"gzip, deflate, br\", \n",
    "\t\t\t\"accept-language\": \"en\", \n",
    "\t\t\t\"user-agent\": \"Mozilla/5.0 (Linux; Android 6.0; Nexus 5 Build/MRA58N) AppleWebKit/537.36 (KHTML, like Gecko) Chrome/108.0.0.0 Mobile Safari/537.36\", \n",
    "\t\t}\n",
    "\n",
    "session = Session()\n",
    "session.headers= headers"
   ]
  },
  {
   "cell_type": "raw",
   "id": "a31f4e69-ab58-4274-9cfe-7bb14de017dd",
   "metadata": {},
   "source": [
    "bigboxes[0].get(\"data-asin\")"
   ]
  },
  {
   "cell_type": "code",
   "execution_count": 5,
   "id": "2e46d766-d919-4af3-8a4a-514cbffc1e7c",
   "metadata": {},
   "outputs": [],
   "source": [
    "###### TEST TEST TEST TEST\n",
    "\n",
    "def get_product_review_link(bigboxes):\n",
    "    all_review_page_list = []\n",
    "    product_id_list = []\n",
    "    product_name_list=[]\n",
    "    for box in bigboxes:\n",
    "        #link_tag = box.find(\"a\", attrs={'class':'a-link-normal s-no-outline'})\n",
    "        productLink = \"https://www.amazon.in\"+ box.div.div.div.div.a[\"href\"]\n",
    "        index = productLink.find('dp/')\n",
    "        see_all_review_page = productLink[:index] + \"product-reviews\" + productLink[index+2:]\n",
    "        all_review_page_list.append(see_all_review_page)\n",
    "        #links_tag_list.append(\"https://www.amazon.in\"+ box.div.div.div.div.a[\"href\"])\n",
    "        product_id_list.append(box.get(\"data-asin\"))\n",
    "        product_name_list.append(box.div.h2.span)\n",
    "        \n",
    "    return product_id_list, product_name_list, all_review_page_list\n"
   ]
  },
  {
   "cell_type": "code",
   "execution_count": 6,
   "id": "e3374901-b890-4093-bcf9-194e57b6935f",
   "metadata": {},
   "outputs": [],
   "source": [
    "product_id, product_name, all_review_page_list = get_product_review_link(bigboxes)"
   ]
  },
  {
   "cell_type": "code",
   "execution_count": 13,
   "id": "2695fe4f-75f8-492d-bb1a-e8e9cc30c717",
   "metadata": {},
   "outputs": [],
   "source": [
    "# TEST # TEST # TEST # TEST \n",
    "\n",
    "def get_reviews(all_review_page_list,product_id,review_page_number_range):\n",
    "    \n",
    "    a = review_page_number_range[0]\n",
    "    b = review_page_number_range[1]\n",
    "    \n",
    "    headers = { \n",
    "                \"accept\": \"text/html,application/xhtml+xml,application/xml;q=0.9,image/avif,image/webp,image/apng,*/*;q=0.8,application/signed-exchange;v=b3;q=0.9\", \n",
    "                \"accept-encoding\": \"gzip, deflate, br\", \n",
    "                \"accept-language\": \"en\", \n",
    "                \"user-agent\": \"Mozilla/5.0 (Linux; Android 6.0; Nexus 5 Build/MRA58N) AppleWebKit/537.36 (KHTML, like Gecko) Chrome/108.0.0.0 Mobile Safari/537.36\", \n",
    "            }\n",
    "\n",
    "    #session = Session()\n",
    "    #session.headers= headers    \n",
    "    customer_name_list = []\n",
    "    rating_list = []\n",
    "    review_title_list = []\n",
    "    reviews_list = []\n",
    "    product_ID_final = []\n",
    "    \n",
    "    for link in all_review_page_list:\n",
    "        #print('productLink is: ',link)\n",
    "        index_for_product_id = iter([i for i in range(len(all_review_page_list))])\n",
    "        productID = product_id[next(index_for_product_id)]\n",
    "        for review_page_number in range(a,b+1):\n",
    "            next_review_page_link = link + f\"/ref=cm_cr_arp_d_paging_btm_2?ie=UTF8&pageNumber={review_page_number}&reviewerType=all_reviews\"\n",
    "            #print(next_review_page)    \n",
    "            next_review_page = requests.get(next_review_page_link, headers=headers)\n",
    "            next_review_page.encoding='utf-8'\n",
    "            next_review_page_soup = bs(next_review_page.content, \"html.parser\")\n",
    "            profiles = next_review_page_soup.findAll(\"span\", {\"class\":\"a-profile-name\"})\n",
    "            #print(next_review_page_link)\n",
    "            for i in range(len(profiles)):\n",
    "                customer_name = profiles[i].text\n",
    "\n",
    "                Review_title = next_review_page_soup.findAll('span',{'class':\"a-size-base review-title-content a-color-base a-text-bold\",'data-hook':\"review-title\"})[i].text\n",
    "                reviews = next_review_page_soup.findAll(\"span\", {\"data-hook\":\"review-body\"})[i].text\n",
    "                rating = next_review_page_soup.findAll(\"span\", {\"class\":\"a-icon-alt\"})[i].text\n",
    "                #print(next_review_page_link)\n",
    "                #print(customer_name)\n",
    "                #print(reviews)\n",
    "                product_ID_final.append(productID)\n",
    "                customer_name_list.append(customer_name)\n",
    "                rating_list.append(rating)\n",
    "                review_title_list.append(Review_title)\n",
    "                reviews_list.append(reviews)\n",
    "    \n",
    "    df = pd.DataFrame([product_ID_final,customer_name_list, rating_list, review_title_list, reviews_list]).T\n",
    "    df.columns = [\"Product ID\",'Customer Name','Rating','Review Title','Reviews']\n",
    "    df['Rating'] = df['Rating'].apply(lambda x: x.split()[0])\n",
    "    df['Review Title'] = df['Review Title'].apply(lambda x: x.strip())\n",
    "    df['Reviews'] = df['Reviews'].apply(lambda x: x.strip())\n",
    "    return df\n"
   ]
  },
  {
   "cell_type": "code",
   "execution_count": 14,
   "id": "4d7104a1-350d-4792-8146-62675a7addf7",
   "metadata": {},
   "outputs": [],
   "source": [
    "df1 = get_reviews(all_review_page_list,product_id,[1,2])"
   ]
  },
  {
   "cell_type": "code",
   "execution_count": 15,
   "id": "6bba80fb-819b-4477-a758-53b8735ea0dd",
   "metadata": {},
   "outputs": [
    {
     "data": {
      "text/html": [
       "<div>\n",
       "<style scoped>\n",
       "    .dataframe tbody tr th:only-of-type {\n",
       "        vertical-align: middle;\n",
       "    }\n",
       "\n",
       "    .dataframe tbody tr th {\n",
       "        vertical-align: top;\n",
       "    }\n",
       "\n",
       "    .dataframe thead th {\n",
       "        text-align: right;\n",
       "    }\n",
       "</style>\n",
       "<table border=\"1\" class=\"dataframe\">\n",
       "  <thead>\n",
       "    <tr style=\"text-align: right;\">\n",
       "      <th></th>\n",
       "      <th>Product ID</th>\n",
       "      <th>Customer Name</th>\n",
       "      <th>Rating</th>\n",
       "      <th>Review Title</th>\n",
       "      <th>Reviews</th>\n",
       "    </tr>\n",
       "  </thead>\n",
       "  <tbody>\n",
       "    <tr>\n",
       "      <th>0</th>\n",
       "      <td>8172345666</td>\n",
       "      <td>Surendra kumar saini</td>\n",
       "      <td>4.7</td>\n",
       "      <td>Satisfied</td>\n",
       "      <td>Nice</td>\n",
       "    </tr>\n",
       "    <tr>\n",
       "      <th>1</th>\n",
       "      <td>8172345666</td>\n",
       "      <td>Kirthivasan</td>\n",
       "      <td>3.0</td>\n",
       "      <td>Must read</td>\n",
       "      <td>APJ sir share his life experiences and things ...</td>\n",
       "    </tr>\n",
       "    <tr>\n",
       "      <th>2</th>\n",
       "      <td>8172345666</td>\n",
       "      <td>Priya Sharma</td>\n",
       "      <td>5.0</td>\n",
       "      <td>Great inspiring book</td>\n",
       "      <td>The life journey of APJ ABDUL KALAM is so insp...</td>\n",
       "    </tr>\n",
       "    <tr>\n",
       "      <th>3</th>\n",
       "      <td>8172345666</td>\n",
       "      <td>Just Yamini</td>\n",
       "      <td>5.0</td>\n",
       "      <td>A LITTLE MORE AND WAY TOO LESS TO KNOW OUR BEL...</td>\n",
       "      <td>Anything written/ spoken by Dr Kalam can be No...</td>\n",
       "    </tr>\n",
       "    <tr>\n",
       "      <th>4</th>\n",
       "      <td>8172345666</td>\n",
       "      <td>Dr.Saswati K.</td>\n",
       "      <td>5.0</td>\n",
       "      <td>Fascinating read</td>\n",
       "      <td>Anything written/ spoken by Dr Kalam can be No...</td>\n",
       "    </tr>\n",
       "    <tr>\n",
       "      <th>...</th>\n",
       "      <td>...</td>\n",
       "      <td>...</td>\n",
       "      <td>...</td>\n",
       "      <td>...</td>\n",
       "      <td>...</td>\n",
       "    </tr>\n",
       "    <tr>\n",
       "      <th>194</th>\n",
       "      <td>8172345666</td>\n",
       "      <td>Amazon Customer</td>\n",
       "      <td>5.0</td>\n",
       "      <td>Awesome set of books for toddlers</td>\n",
       "      <td>Best books for pre learner baby above age 2 yr...</td>\n",
       "    </tr>\n",
       "    <tr>\n",
       "      <th>195</th>\n",
       "      <td>8172345666</td>\n",
       "      <td>Tharfeena VP</td>\n",
       "      <td>5.0</td>\n",
       "      <td>Best gift for kids</td>\n",
       "      <td>I ordered this for my 20 month baby.He loved i...</td>\n",
       "    </tr>\n",
       "    <tr>\n",
       "      <th>196</th>\n",
       "      <td>8172345666</td>\n",
       "      <td>Rajeshkumar Komma</td>\n",
       "      <td>5.0</td>\n",
       "      <td>Good</td>\n",
       "      <td>😊😊</td>\n",
       "    </tr>\n",
       "    <tr>\n",
       "      <th>197</th>\n",
       "      <td>8172345666</td>\n",
       "      <td>Snehapriya</td>\n",
       "      <td>5.0</td>\n",
       "      <td>More then thick Ness...</td>\n",
       "      <td>Good</td>\n",
       "    </tr>\n",
       "    <tr>\n",
       "      <th>198</th>\n",
       "      <td>8172345666</td>\n",
       "      <td>Mamta solanki</td>\n",
       "      <td>3.0</td>\n",
       "      <td>average</td>\n",
       "      <td>All the good books, and the little ones like it…</td>\n",
       "    </tr>\n",
       "  </tbody>\n",
       "</table>\n",
       "<p>199 rows × 5 columns</p>\n",
       "</div>"
      ],
      "text/plain": [
       "     Product ID         Customer Name Rating  \\\n",
       "0    8172345666  Surendra kumar saini    4.7   \n",
       "1    8172345666           Kirthivasan    3.0   \n",
       "2    8172345666          Priya Sharma    5.0   \n",
       "3    8172345666           Just Yamini    5.0   \n",
       "4    8172345666         Dr.Saswati K.    5.0   \n",
       "..          ...                   ...    ...   \n",
       "194  8172345666       Amazon Customer    5.0   \n",
       "195  8172345666          Tharfeena VP    5.0   \n",
       "196  8172345666     Rajeshkumar Komma    5.0   \n",
       "197  8172345666            Snehapriya    5.0   \n",
       "198  8172345666         Mamta solanki    3.0   \n",
       "\n",
       "                                          Review Title  \\\n",
       "0                                            Satisfied   \n",
       "1                                            Must read   \n",
       "2                                 Great inspiring book   \n",
       "3    A LITTLE MORE AND WAY TOO LESS TO KNOW OUR BEL...   \n",
       "4                                     Fascinating read   \n",
       "..                                                 ...   \n",
       "194                  Awesome set of books for toddlers   \n",
       "195                                 Best gift for kids   \n",
       "196                                               Good   \n",
       "197                            More then thick Ness...   \n",
       "198                                            average   \n",
       "\n",
       "                                               Reviews  \n",
       "0                                                 Nice  \n",
       "1    APJ sir share his life experiences and things ...  \n",
       "2    The life journey of APJ ABDUL KALAM is so insp...  \n",
       "3    Anything written/ spoken by Dr Kalam can be No...  \n",
       "4    Anything written/ spoken by Dr Kalam can be No...  \n",
       "..                                                 ...  \n",
       "194  Best books for pre learner baby above age 2 yr...  \n",
       "195  I ordered this for my 20 month baby.He loved i...  \n",
       "196                                                 😊😊  \n",
       "197                                               Good  \n",
       "198   All the good books, and the little ones like it…  \n",
       "\n",
       "[199 rows x 5 columns]"
      ]
     },
     "execution_count": 15,
     "metadata": {},
     "output_type": "execute_result"
    }
   ],
   "source": [
    "df1"
   ]
  },
  {
   "cell_type": "code",
   "execution_count": null,
   "id": "adf67d94-a5a7-4b89-bed5-6d5a1b35690d",
   "metadata": {},
   "outputs": [],
   "source": []
  },
  {
   "cell_type": "code",
   "execution_count": null,
   "id": "bdde5b0c-072d-4b50-bcd2-841fdec6afcf",
   "metadata": {
    "tags": []
   },
   "outputs": [],
   "source": [
    "###### WORKING #############\n",
    "####### ACCEPTED ##########\n",
    "####### DOnt DELETE #########\n",
    "\n",
    "def get_product_review_link(bigboxes):\n",
    "    all_review_page_list = []\n",
    "    product_id_list = []\n",
    "    product_name_list=[]\n",
    "    product_ID_final = []\n",
    "    for box in bigboxes:\n",
    "        #link_tag = box.find(\"a\", attrs={'class':'a-link-normal s-no-outline'})\n",
    "        productLink = \"https://www.amazon.in\"+ box.div.div.div.div.a[\"href\"]\n",
    "        index = productLink.find('dp/')\n",
    "        see_all_review_page = productLink[:index] + \"product-reviews\" + productLink[index+2:]\n",
    "        all_review_page_list.append(see_all_review_page)\n",
    "        #links_tag_list.append(\"https://www.amazon.in\"+ box.div.div.div.div.a[\"href\"])\n",
    "        product_id_list.append(box.get(\"data-asin\"))\n",
    "        product_name_list.append(box.div.h2.span)\n",
    "        \n",
    "    return product_id_list, product_name_list, all_review_page_list\n",
    "\n",
    "###################################################################\n",
    "# all_review_page_list contain the links for all review page for all the products\n",
    "# each link refers  to a  new product link\n",
    "\n",
    "def get_reviews(all_review_page_list,review_page_number_range):\n",
    "    \n",
    "    a = review_page_number_range[0]\n",
    "    b = review_page_number_range[1]\n",
    "    \n",
    "    headers = { \n",
    "                \"accept\": \"text/html,application/xhtml+xml,application/xml;q=0.9,image/avif,image/webp,image/apng,*/*;q=0.8,application/signed-exchange;v=b3;q=0.9\", \n",
    "                \"accept-encoding\": \"gzip, deflate, br\", \n",
    "                \"accept-language\": \"en\", \n",
    "                \"user-agent\": \"Mozilla/5.0 (Linux; Android 6.0; Nexus 5 Build/MRA58N) AppleWebKit/537.36 (KHTML, like Gecko) Chrome/108.0.0.0 Mobile Safari/537.36\", \n",
    "            }\n",
    "\n",
    "    #session = Session()\n",
    "    #session.headers= headers    \n",
    "    customer_name_list = []\n",
    "    rating_list = []\n",
    "    review_title_list = []\n",
    "    reviews_list = []\n",
    "    \n",
    "    for link in all_review_page_list:\n",
    "        #print('productLink is: ',link) \n",
    "        index_for_product_id = iter([i for i in range(len(all_review_page_list))])\n",
    "        productID = product_id[next(index_for_product_id)]\n",
    "        \n",
    "        for review_page_number in range(a,b):\n",
    "            next_review_page_link = link + f\"/ref=cm_cr_arp_d_paging_btm_2?ie=UTF8&pageNumber={review_page_number}&reviewerType=all_reviews\"\n",
    "            #print(next_review_page)    \n",
    "            next_review_page = requests.get(next_review_page_link, headers=headers)\n",
    "            next_review_page.encoding='utf-8'\n",
    "            next_review_page_soup = bs(next_review_page.content, \"html.parser\")\n",
    "            profiles = next_review_page_soup.findAll(\"span\", {\"class\":\"a-profile-name\"})\n",
    "            #print(next_review_page_link)\n",
    "            for i in range(len(profiles)):\n",
    "                customer_name = profiles[i].text\n",
    "\n",
    "                Review_title = next_review_page_soup.findAll('span',{'class':\"a-size-base review-title-content a-color-base a-text-bold\",'data-hook':\"review-title\"})[i].text\n",
    "                reviews = next_review_page_soup.findAll(\"span\", {\"data-hook\":\"review-body\"})[i].text\n",
    "                rating = next_review_page_soup.findAll(\"span\", {\"class\":\"a-icon-alt\"})[i].text\n",
    "                #print(next_review_page_link)\n",
    "                #print(product_name)\n",
    "                product_ID_final.append(productID)\n",
    "                customer_name_list.append(customer_name)\n",
    "                rating_list.append(rating)\n",
    "                review_title_list.append(Review_title)\n",
    "                reviews_list.append(reviews)\n",
    "    df = pd.DataFrame([product_ID_final,customer_name_list, rating_list, review_title_list, reviews_list]).T\n",
    "    df.columns = [\"Product ID\",'Customer Name','Rating','Review Title','Reviews']\n",
    "    df1['Rating'] = df1['Rating'].apply(lambda x: x.split()[0])\n",
    "    df1['Review Title'] = df1['Review Title'].apply(lambda x: x.strip())\n",
    "    df1['Reviews'] = df1['Reviews'].apply(lambda x: x.strip())\n",
    "    return df\n"
   ]
  },
  {
   "cell_type": "raw",
   "id": "24a45816-fd20-4b5c-945b-e9b42723c019",
   "metadata": {},
   "source": [
    "product_id, product_name, all_review_page_list = get_product_review_link(bigboxes)"
   ]
  },
  {
   "cell_type": "raw",
   "id": "62fcee5f-fd24-4dfc-baf7-af36bbc95419",
   "metadata": {},
   "source": [
    "a,b,c,d,e = get_reviews(all_review_page_list,[1,2])"
   ]
  },
  {
   "cell_type": "raw",
   "id": "885149ab-31dc-46b7-ab80-32f1049a1101",
   "metadata": {
    "jupyter": {
     "source_hidden": true
    },
    "tags": []
   },
   "source": [
    "#### ACCEPTED #############\n",
    "#### ACCEPTED #############\n",
    "#### ACCEPTED #############\n",
    "\n",
    "\n",
    "\n",
    "links_tag_list = []\n",
    "product_id = []\n",
    "for box in bigboxes:\n",
    "    #link_tag = box.find(\"a\", attrs={'class':'a-link-normal s-no-outline'})\n",
    "    productLink = \"https://www.amazon.in\"+ box.div.div.div.div.a[\"href\"]\n",
    "    index = productLink.find('dp/')\n",
    "    review_page = productLink[:index] + \"product-reviews\" + productLink[index+2:]\n",
    "    links_tag_list.append(review_page)\n",
    "    #links_tag_list.append(\"https://www.amazon.in\"+ box.div.div.div.div.a[\"href\"])\n",
    "    product_id.append(box.get(\"data-asin\"))\n",
    "    \n",
    "for link in links_tag_list:\n",
    "    \n",
    "    new_webpage = requests.get(link, headers=headers)\n",
    "    new_webpage.encoding='utf-8'\n",
    "    new_product_soup = bs(new_webpage.content, \"html.parser\")\n",
    "    #for profile in new_product_soup.findAll(\"span\", {\"class\":\"a-profile-name\"}):\n",
    "    #    #name = profile.text\n",
    "    #    print(new_product_soup.find('span',{'class':\"a-size-base review-title-content a-color-base a-text-bold\",'data-hook':\"review-title\"}))\n",
    "    for i in range(len(profileName)):\n",
    "        name = prod_html.findAll(\"span\", {\"class\":\"a-profile-name\"})[i].text\n",
    "        #Review_title = prod_html.findAll('span',{'class':\"a-size-base review-title-content a-color-base a-text-bold\",'data-hook':\"review-title\"})[i].text\n",
    "        #rating = prod_html.findAll(\"span\", {\"class\":\"a-icon-alt\"})[i].text\n",
    "        #reviews = prod_html.findAll(\"span\", {\"class\":\"cr-original-review-content\"})[i].text\n",
    "        #print(name)"
   ]
  },
  {
   "cell_type": "raw",
   "id": "6e7eae3a-63a9-461c-bce5-2c3dffd6e50c",
   "metadata": {
    "jupyter": {
     "source_hidden": true
    },
    "tags": []
   },
   "source": [
    "bigboxes[0].div.div.div.div.div.div.div.a[\"href\"]"
   ]
  },
  {
   "cell_type": "raw",
   "id": "c96a842c-35b3-463f-96da-bfc42184b0c8",
   "metadata": {
    "jupyter": {
     "source_hidden": true
    },
    "tags": []
   },
   "source": [
    "#bigboxes[1].find(\"a\", attrs={'class':'a-link-normal s-no-outline'})\n",
    "\n",
    "# Loop for extracting product links for each product on the search result page\n",
    "links_tag_list = []\n",
    "product_id = []\n",
    "for box in bigboxes:\n",
    "    #link_tag = box.find(\"a\", attrs={'class':'a-link-normal s-no-outline'})\n",
    "    links_tag_list.append(box.find(\"a\", attrs={'class':'a-link-normal s-no-outline'}))\n",
    "    product_id.append(box.get(\"data-asin\"))\n",
    "\n",
    "#len(links_tag_list)\n",
    "##########################################################\n",
    "\n",
    "# Store the links\n",
    "# Loop for extracting links from Tag Objects\n",
    "\n",
    "links_list = []\n",
    "for link in links_tag_list:\n",
    "    #link.get('href')\n",
    "    links_list.append(link.get('href'))\n",
    "\n",
    "#len(links_list)\n",
    "################################################################\n",
    "\n",
    "    \n",
    "# Loop for extracting product details from each link \n",
    "    \n",
    "for link in links_list:\n",
    "    page=\"https://www.amazon.in\" + link\n",
    "    new_webpage = requests.get(\"https://www.amazon.in\" + link, headers=headers)\n",
    "    #new_product_soup = bs(new_webpage.content, \"lxml\")\n",
    "    #new_webpage.encoding='utf-8'\n",
    "    new_product_soup = bs(new_webpage.content, \"html.parser\")\n",
    "    #print(page)\n",
    "    \n",
    "    profiles = new_product_soup.findAll(\"span\", {\"class\":\"a-profile-name\"})\n",
    "    \n",
    "    for i in range(len(profiles)):\n",
    "        name = new_product_soup.findAll(\"span\", {\"class\":\"a-profile-name\"})[i].text\n",
    "        Review_title = new_product_soup.findAll('span',{'class':\"a-size-base review-title-content a-color-base a-text-bold\",'data-hook':\"review-title\"})[i].text\n",
    "        #rating = new_product_soup.findAll(\"span\", {\"class\":\"a-icon-alt\"})[i].text\n",
    "        reviews = new_product_soup.findAll(\"span\", {\"data-hook\":\"review-body\"})[i].text\n",
    "        print([name,Review_title])    \n",
    "        print(reviews)    "
   ]
  },
  {
   "cell_type": "raw",
   "id": "1b98fec3-6645-4799-9629-5ed33ef96886",
   "metadata": {
    "jupyter": {
     "source_hidden": true
    },
    "tags": []
   },
   "source": [
    "new_product_soup.find(\"div\", {\"data-hook\":\"review-collapsed\"})"
   ]
  },
  {
   "cell_type": "raw",
   "id": "ea6cf527-ae56-4af9-b508-40a5bbda6146",
   "metadata": {
    "jupyter": {
     "source_hidden": true
    },
    "tags": []
   },
   "source": [
    "bs(new_webpage.text,\"lxml\").findAll(\"span\", {\"class\":\"a-profile-name\"})"
   ]
  },
  {
   "cell_type": "code",
   "execution_count": null,
   "id": "6743a5eb-e82a-455c-b89f-482cba924c73",
   "metadata": {},
   "outputs": [],
   "source": []
  },
  {
   "cell_type": "markdown",
   "id": "65d13436-c1c8-4596-93c5-282fdc38d3bb",
   "metadata": {},
   "source": [
    "___"
   ]
  },
  {
   "cell_type": "code",
   "execution_count": null,
   "id": "08df199d-ab49-4c74-a218-8d76e95c077c",
   "metadata": {},
   "outputs": [],
   "source": []
  },
  {
   "cell_type": "markdown",
   "id": "cf503443-ba26-45b6-86fd-5215c681bbc9",
   "metadata": {
    "jp-MarkdownHeadingCollapsed": true,
    "tags": []
   },
   "source": [
    "# Amazon 2"
   ]
  },
  {
   "cell_type": "code",
   "execution_count": 7,
   "id": "bd670761-00e2-4c8f-b592-1fe8b8d4e773",
   "metadata": {},
   "outputs": [],
   "source": [
    "from flask import Flask, render_template, request,jsonify\n",
    "from flask_cors import CORS,cross_origin\n",
    "import requests\n",
    "from requests import Session \n",
    "from bs4 import BeautifulSoup as bs\n",
    "from urllib.request import urlopen as uReq\n"
   ]
  },
  {
   "cell_type": "raw",
   "id": "663dcd9c-16c5-46f5-9e95-e7283c62b14f",
   "metadata": {
    "jupyter": {
     "source_hidden": true
    },
    "tags": []
   },
   "source": [
    "no_pages = 2\n",
    "\n",
    "def get_data(pageNo):\n",
    "\n",
    "    \n",
    "    headers = { \n",
    "\t\t\t\"accept\": \"text/html,application/xhtml+xml,application/xml;q=0.9,image/avif,image/webp,image/apng,*/*;q=0.8,application/signed-exchange;v=b3;q=0.9\", \n",
    "\t\t\t\"accept-encoding\": \"gzip, deflate, br\", \n",
    "\t\t\t\"accept-language\": \"en\", \n",
    "\t\t\t\"user-agent\": \"Mozilla/5.0 (Linux; Android 6.0; Nexus 5 Build/MRA58N) AppleWebKit/537.36 (KHTML, like Gecko) Chrome/108.0.0.0 Mobile Safari/537.36\", \n",
    "\t\t}\n",
    "\n",
    "    \n",
    "    #headers = {\"User-Agent\":\"Mozilla/5.0 (Windows NT 10.0; Win64; x64; rv:66.0) Gecko/20100101 Firefox/66.0\", \"Accept-Encoding\":\"gzip, deflate\", \"Accept\":\"text/html,application/xhtml+xml,application/xml;q=0.9,*/*;q=0.8\", \"DNT\":\"1\",\"Connection\":\"close\", \"Upgrade-Insecure-Requests\":\"1\"}\n",
    "\n",
    "    #r = requests.get('https://www.amazon.in/gp/bestsellers/books/ref=zg_bs_pg_'+str(pageNo)+'?ie=UTF8&pg='+str(pageNo), headers=headers)#, proxies=proxies)\n",
    "    r = requests.get('https://www.amazon.in/gp/bestsellers/books/ref=zg_bs_pg_'+str(pageNo)+'?ie=UTF8&pg='+str(pageNo), headers=headers)#, proxies=proxies)\n",
    "    content = r.content\n",
    "    soup = BeautifulSoup(content,'html.parser')\n",
    "    #print(soup)\n",
    "\n",
    "    alls = []\n",
    "    for d in soup.findAll('div', attrs={'class':'a-section a-spacing-none aok-relative'}):\n",
    "        print(d)\n",
    "        name = d.find('span', attrs={'class':'zg-text-center-align'})\n",
    "        n = name.find_all('img', alt=True)\n",
    "        #print(n[0]['alt'])\n",
    "        author = d.find('a', attrs={'class':'a-size-small a-link-child'})\n",
    "        rating = d.find('span', attrs={'class':'a-icon-alt'})\n",
    "        users_rated = d.find('a', attrs={'class':'a-size-small a-link-normal'})\n",
    "        price = d.find('span', attrs={'class':'p13n-sc-price'})\n",
    "\n",
    "        all1=[]\n",
    "\n",
    "        if name is not None:\n",
    "            #print(n[0]['alt'])\n",
    "            all1.append(n[0]['alt'])\n",
    "        else:\n",
    "            all1.append(\"unknown-product\")\n",
    "\n",
    "        if author is not None:\n",
    "            #print(author.text)\n",
    "            all1.append(author.text)\n",
    "        elif author is None:\n",
    "            author = d.find('span', attrs={'class':'a-size-small a-color-base'})\n",
    "            if author is not None:\n",
    "                all1.append(author.text)\n",
    "            else:    \n",
    "                all1.append('0')\n",
    "\n",
    "        if rating is not None:\n",
    "            #print(rating.text)\n",
    "            all1.append(rating.text)\n",
    "        else:\n",
    "            all1.append('-1')\n",
    "\n",
    "        if users_rated is not None:\n",
    "            #print(price.text)\n",
    "            all1.append(users_rated.text)\n",
    "        else:\n",
    "            all1.append('0')     \n",
    "\n",
    "        if price is not None:\n",
    "            #print(price.text)\n",
    "            all1.append(price.text)\n",
    "        else:\n",
    "            all1.append('0')\n",
    "        alls.append(all1)    \n",
    "    return alls\n"
   ]
  },
  {
   "cell_type": "code",
   "execution_count": 8,
   "id": "5ec06a0f-bd94-45f4-ab2c-0c4903a238d8",
   "metadata": {},
   "outputs": [],
   "source": [
    "amazon_url = \"https://www.amazon.in/s?k=\"+\"iphone\"\n",
    "uClient = uReq(amazon_url)\n",
    "amazonPage= uClient.read()\n",
    "uClient.close()\n",
    "amazon_html = bs(amazonPage,'html.parser')\n",
    "bigboxes = amazon_html.findAll(\"div\", {\"class\":\"s-card-container s-overflow-hidden aok-relative puis-include-content-margin puis s-latency-cf-section s-card-border\"})\n"
   ]
  },
  {
   "cell_type": "code",
   "execution_count": 19,
   "id": "c3dce72d-936e-4d51-8b3d-5266139543b4",
   "metadata": {},
   "outputs": [
    {
     "data": {
      "text/plain": [
       "'https://www.amazon.in/s?k=iphone&page=2'"
      ]
     },
     "execution_count": 19,
     "metadata": {},
     "output_type": "execute_result"
    }
   ],
   "source": [
    "# Creating url for crwal over pages main search pages\n",
    "pageNo=1\n",
    "amazon_url+'&page='+str(pageNo)"
   ]
  },
  {
   "cell_type": "code",
   "execution_count": 20,
   "id": "c4be4792-1c54-424e-b3ac-8821f212528a",
   "metadata": {},
   "outputs": [
    {
     "data": {
      "text/plain": [
       "'https://www.amazon.in/s?k=iphone&page=2?ie=UTF8&page=2'"
      ]
     },
     "execution_count": 20,
     "metadata": {},
     "output_type": "execute_result"
    }
   ],
   "source": [
    "amazon_url+'&page='+str(pageNo)+'?ie=UTF8&page='+str(pageNo)"
   ]
  },
  {
   "cell_type": "code",
   "execution_count": 22,
   "id": "b1df67b4-0074-4fa9-9797-1985ad10f4b8",
   "metadata": {
    "tags": []
   },
   "outputs": [
    {
     "name": "stdout",
     "output_type": "stream",
     "text": [
      "Retrying\n",
      "Retrying\n",
      "Retrying\n",
      "Retrying\n",
      "Retrying\n",
      "₹79,900\n"
     ]
    },
    {
     "ename": "AttributeError",
     "evalue": "'NoneType' object has no attribute 'span'",
     "output_type": "error",
     "traceback": [
      "\u001b[1;31m---------------------------------------------------------------------------\u001b[0m",
      "\u001b[1;31mAttributeError\u001b[0m                            Traceback (most recent call last)",
      "Cell \u001b[1;32mIn [22], line 43\u001b[0m\n\u001b[0;32m     24\u001b[0m \u001b[38;5;66;03m#results[0].div.h2.span.text\u001b[39;00m\n\u001b[0;32m     25\u001b[0m \u001b[38;5;66;03m#results[0].find('span',{'class':'a-icon-alt'}).text\u001b[39;00m\n\u001b[0;32m     26\u001b[0m \u001b[38;5;66;03m#results[0].find('span',{\"class\":\"a-size-mini a-color-base puis-light-weight-text\"}).text\u001b[39;00m\n\u001b[1;32m   (...)\u001b[0m\n\u001b[0;32m     35\u001b[0m \u001b[38;5;66;03m#results[0].find('div',{'class':\"a-section a-spacing-none a-spacing-top-micro s-price-instructions-style\"}).div.find('span',{'class':'a-text-price'}).span.text\u001b[39;00m\n\u001b[0;32m     36\u001b[0m \u001b[38;5;66;03m#alls = []\u001b[39;00m\n\u001b[0;32m     37\u001b[0m \u001b[38;5;28;01mfor\u001b[39;00m d \u001b[38;5;129;01min\u001b[39;00m soup\u001b[38;5;241m.\u001b[39mfindAll(\u001b[38;5;124m'\u001b[39m\u001b[38;5;124mdiv\u001b[39m\u001b[38;5;124m'\u001b[39m, attrs\u001b[38;5;241m=\u001b[39m{\u001b[38;5;124m'\u001b[39m\u001b[38;5;124mdata-component-type\u001b[39m\u001b[38;5;124m'\u001b[39m:\u001b[38;5;124m'\u001b[39m\u001b[38;5;124ms-search-result\u001b[39m\u001b[38;5;124m'\u001b[39m}):\n\u001b[0;32m     38\u001b[0m     \u001b[38;5;66;03m#print(d)\u001b[39;00m\n\u001b[0;32m     39\u001b[0m     \u001b[38;5;66;03m#name = d.div.h2.span.text\u001b[39;00m\n\u001b[0;32m     40\u001b[0m     \u001b[38;5;66;03m#rating = d.find('span',{'class':'a-icon-alt'}).text\u001b[39;00m\n\u001b[0;32m     41\u001b[0m     \u001b[38;5;66;03m#customer_rated = d.find('span',{\"class\":\"a-size-mini a-color-base puis-light-weight-text\"}).text\u001b[39;00m\n\u001b[0;32m     42\u001b[0m     \u001b[38;5;66;03m#dicounted_price= d.find('span',{'class':'a-offscreen'}).text\u001b[39;00m\n\u001b[1;32m---> 43\u001b[0m     price \u001b[38;5;241m=\u001b[39m d\u001b[38;5;241m.\u001b[39mfind(\u001b[38;5;124m'\u001b[39m\u001b[38;5;124mdiv\u001b[39m\u001b[38;5;124m'\u001b[39m,{\u001b[38;5;124m'\u001b[39m\u001b[38;5;124mclass\u001b[39m\u001b[38;5;124m'\u001b[39m:\u001b[38;5;124m\"\u001b[39m\u001b[38;5;124ma-section a-spacing-none a-spacing-top-micro s-price-instructions-style\u001b[39m\u001b[38;5;124m\"\u001b[39m})\u001b[38;5;241m.\u001b[39mdiv\u001b[38;5;241m.\u001b[39mfind(\u001b[38;5;124m'\u001b[39m\u001b[38;5;124mspan\u001b[39m\u001b[38;5;124m'\u001b[39m,{\u001b[38;5;124m'\u001b[39m\u001b[38;5;124mclass\u001b[39m\u001b[38;5;124m'\u001b[39m:\u001b[38;5;124m'\u001b[39m\u001b[38;5;124ma-text-price\u001b[39m\u001b[38;5;124m'\u001b[39m})\u001b[38;5;241m.\u001b[39mspan\u001b[38;5;241m.\u001b[39mtext\n\u001b[0;32m     44\u001b[0m     \u001b[38;5;66;03m#discount = d.find(\"div\",attrs={\"class\":\"a-color-base\"}).findAll(\"span\",{\"class\":\"puis-light-weight-text\"})[1].text\u001b[39;00m\n\u001b[0;32m     45\u001b[0m     \u001b[38;5;28mprint\u001b[39m(price)\n",
      "\u001b[1;31mAttributeError\u001b[0m: 'NoneType' object has no attribute 'span'"
     ]
    }
   ],
   "source": [
    "    headers = { \n",
    "\t\t\t\"accept\": \"text/html,application/xhtml+xml,application/xml;q=0.9,image/avif,image/webp,image/apng,*/*;q=0.8,application/signed-exchange;v=b3;q=0.9\", \n",
    "\t\t\t\"accept-encoding\": \"gzip, deflate, br\", \n",
    "\t\t\t\"accept-language\": \"en\", \n",
    "\t\t\t\"user-agent\": \"Mozilla/5.0 (Linux; Android 6.0; Nexus 5 Build/MRA58N) AppleWebKit/537.36 (KHTML, like Gecko) Chrome/108.0.0.0 Mobile Safari/537.36\", \n",
    "\t\t}\n",
    "\n",
    "    \n",
    "    #headers = {\"User-Agent\":\"Mozilla/5.0 (Windows NT 10.0; Win64; x64; rv:66.0) Gecko/20100101 Firefox/66.0\", \"Accept-Encoding\":\"gzip, deflate\", \"Accept\":\"text/html,application/xhtml+xml,application/xml;q=0.9,*/*;q=0.8\", \"DNT\":\"1\",\"Connection\":\"close\", \"Upgrade-Insecure-Requests\":\"1\"}\n",
    "\n",
    "    #r = requests.get('https://www.amazon.in/gp/bestsellers/books/ref=zg_bs_pg_'+str(pageNo)+'?ie=UTF8&pg='+str(pageNo), headers=headers)#, proxies=proxies)\n",
    "    for i in range(0,5):\n",
    "        while True:\n",
    "            try:\n",
    "                r = requests.get(amazon_url+'&page='+str(pageNo), headers=headers)#, proxies=proxies)\n",
    "            except:\n",
    "                print(\"Retrying\")\n",
    "            break\n",
    "    r.encoding='utf-8'\n",
    "    content = r.content\n",
    "    soup = bs(content,'html.parser')\n",
    "    #print(soup)\n",
    "    results = soup.findAll('div', attrs={'data-component-type':'s-search-result'})\n",
    "    #results[0].div.h2.span.text\n",
    "    #results[0].find('span',{'class':'a-icon-alt'}).text\n",
    "    #results[0].find('span',{\"class\":\"a-size-mini a-color-base puis-light-weight-text\"}).text\n",
    "    #results[0].find('span',{'class':'a-offscreen'}).text\n",
    "    #results[0].find('span',{'class':'a-price'}).span.text\n",
    "    #results[0].find('div',{'class':\"a-section a-spacing-none a-spacing-top-micro s-price-instructions-style\"}).div.findAll('span')[6].span.text\n",
    "    #results[0].find('div',{'class':\"a-section a-spacing-none a-spacing-top-micro s-price-instructions-style\"}).div.find('span',{'class':'a-text-price'}).span.text\n",
    "    #results[0].find('div',{'class':\"a-section a-spacing-none a-spacing-top-micro s-price-instructions-style\"}).findAll(\"span\",{\"class\":\"puis-light-weight-text\"})\n",
    "    #results[0].find('div',{'class':\"a-section a-spacing-none a-spacing-top-micro s-price-instructions-style\"}).div.findAll(\"span\",{\"class\":\"puis-light-weight-text\"})[1].text\n",
    "    #results[0].find('div',{'class':\"a-section a-spacing-none a-spacing-top-micro s-price-instructions-style\"})\n",
    "    #results[0].find(\"div\",attrs={\"class\":\"a-color-base\"}).findAll(\"span\",{\"class\":\"puis-light-weight-text\"})[1].text\n",
    "    #results[0].find('div',{'class':\"a-section a-spacing-none a-spacing-top-micro s-price-instructions-style\"}).div.find('span',{'class':'a-text-price'}).span.text\n",
    "    #alls = []\n",
    "    for d in soup.findAll('div', attrs={'data-component-type':'s-search-result'}):\n",
    "        #print(d)\n",
    "        #name = d.div.h2.span.text\n",
    "        #rating = d.find('span',{'class':'a-icon-alt'}).text\n",
    "        #customer_rated = d.find('span',{\"class\":\"a-size-mini a-color-base puis-light-weight-text\"}).text\n",
    "        #dicounted_price= d.find('span',{'class':'a-offscreen'}).text\n",
    "        price = d.find('div',{'class':\"a-section a-spacing-none a-spacing-top-micro s-price-instructions-style\"}).div.find('span',{'class':'a-text-price'}).span.text\n",
    "        #discount = d.find(\"div\",attrs={\"class\":\"a-color-base\"}).findAll(\"span\",{\"class\":\"puis-light-weight-text\"})[1].text\n",
    "        print(price)\n",
    "\n",
    "        \n",
    "        "
   ]
  },
  {
   "cell_type": "markdown",
   "id": "d55a9326-b040-415d-878a-024ebed1cb90",
   "metadata": {
    "jp-MarkdownHeadingCollapsed": true,
    "tags": []
   },
   "source": [
    "# Working\n",
    "___"
   ]
  },
  {
   "cell_type": "code",
   "execution_count": 10,
   "id": "83653aea-0d93-4fe5-b930-db9479a642d5",
   "metadata": {},
   "outputs": [],
   "source": [
    "from flask import Flask, render_template, request,jsonify\n",
    "from flask_cors import CORS,cross_origin\n",
    "import requests\n",
    "from requests import Session \n",
    "from bs4 import BeautifulSoup as bs\n",
    "from urllib.request import urlopen as uReq\n",
    "\n",
    "#################################\n",
    "import pandas as pd\n",
    "import re\n",
    "import time"
   ]
  },
  {
   "cell_type": "code",
   "execution_count": 11,
   "id": "21d1b622-8ecd-4c71-9182-b688a2f8c47d",
   "metadata": {},
   "outputs": [],
   "source": [
    "\n",
    "def search_product(search):\n",
    "    count=0  # count determine number of iteration in case except condition becomes true. Loop will broke ou as soon as first condition become true\n",
    "    while count<=50:\n",
    "        try:\n",
    "            amazon_url = \"https://www.amazon.in/s?k=\"+ search\n",
    "            uClient = uReq(amazon_url)\n",
    "            amazonPage= uClient.read()\n",
    "            uClient.close()\n",
    "            #amazon_html = bs(amazonPage,'html.parser')\n",
    "            #bigboxes = amazon_html.findAll(\"div\", {\"class\":\"s-card-container s-overflow-hidden aok-relative puis-include-content-margin puis s-latency-cf-section s-card-border\"})\n",
    "            print('Connection Established')\n",
    "            break\n",
    "            \n",
    "        except Exception as e:\n",
    "            print('Retrying: Check Your Internet Connection:',e)\n",
    "            #continue\n",
    "            time.sleep(2)\n",
    "        count+=1\n",
    "            \n",
    "            \n",
    "    return amazon_url        \n",
    "        "
   ]
  },
  {
   "cell_type": "code",
   "execution_count": 12,
   "id": "5d67024c-f365-4a9d-8a3f-61442cb7f3e6",
   "metadata": {},
   "outputs": [
    {
     "name": "stdout",
     "output_type": "stream",
     "text": [
      "Connection Established\n"
     ]
    }
   ],
   "source": [
    "amazon_url = search_product(\"book\")"
   ]
  },
  {
   "cell_type": "code",
   "execution_count": 13,
   "id": "c1566409-b6aa-4ee4-a6ab-b38c9a1f9459",
   "metadata": {},
   "outputs": [
    {
     "data": {
      "text/plain": [
       "'https://www.amazon.in/s?k=book'"
      ]
     },
     "execution_count": 13,
     "metadata": {},
     "output_type": "execute_result"
    }
   ],
   "source": [
    "amazon_url"
   ]
  },
  {
   "cell_type": "code",
   "execution_count": 14,
   "id": "a7b9b3a3",
   "metadata": {
    "tags": []
   },
   "outputs": [],
   "source": [
    "#no_pages = 10\n",
    "\n",
    "def get_data(pageNo,amazon_url):\n",
    "    headers = { \n",
    "\t\t\t\"accept\": \"text/html,application/xhtml+xml,application/xml;q=0.9,image/avif,image/webp,image/apng,*/*;q=0.8,application/signed-exchange;v=b3;q=0.9\", \n",
    "\t\t\t\"accept-encoding\": \"gzip, deflate, br\", \n",
    "\t\t\t\"accept-language\": \"en-GB,en-US;q=0.9,en;q=0.8\", \n",
    "\t\t\t\"user-agent\": \"Mozilla/5.0 (Linux; Android 6.0; Nexus 5 Build/MRA58N) AppleWebKit/537.36 (KHTML, like Gecko) Chrome/108.0.0.0 Mobile Safari/537.36\", \n",
    "\t\t}\n",
    "\n",
    "    \n",
    "    #headers = {\"User-Agent\":\"Mozilla/5.0 (Windows NT 10.0; Win64; x64; rv:66.0) Gecko/20100101 Firefox/66.0\", \"Accept-Encoding\":\"gzip, deflate\", \"Accept\":\"text/html,application/xhtml+xml,application/xml;q=0.9,*/*;q=0.8\", \"DNT\":\"1\",\"Connection\":\"close\", \"Upgrade-Insecure-Requests\":\"1\"}\n",
    "\n",
    "    #r = requests.get('https://www.amazon.in/gp/bestsellers/books/ref=zg_bs_pg_'+str(pageNo)+'?ie=UTF8&pg='+str(pageNo), headers=headers)#, proxies=proxies)\n",
    "    count = 0\n",
    "    while count<=40:\n",
    "        try:\n",
    "            r = requests.get(amazon_url+'&page='+str(pageNo), headers=headers)#, proxies=proxies)\n",
    "            search_result = r.content\n",
    "            break\n",
    "        except Exception as e:\n",
    "            print(\"Retrying...\",e)\n",
    "            time.sleep(1)\n",
    "        count +=1\n",
    "    \n",
    "    r.encoding='utf-8'\n",
    "    #search_result = r.content\n",
    "    soup = bs(search_result,'html.parser')\n",
    "    #print(soup)\n",
    "    #results = soup.findAll('div', attrs={'data-component-type':'s-search-result'})\n",
    "    #product_id.append(box.get(\"data-asin\"))\n",
    "    product_id = []\n",
    "    alls = []\n",
    "    \n",
    "    for d in soup.findAll('div', attrs={'data-component-type':'s-search-result'}):\n",
    "        #print(d)\n",
    "        product_id.append(d.get(\"data-asin\"))\n",
    "        name = d.div.h2.span\n",
    "        rating = d.find('span',{'class':'a-icon-alt'})\n",
    "        customer_rated = d.find('span',{\"class\":\"a-size-mini a-color-base puis-light-weight-text\"})\n",
    "        discounted_price= d.find('span',{'class':'a-offscreen'})\n",
    "        price = d.find('div',{'class':\"a-section a-spacing-none a-spacing-top-micro s-price-instructions-style\"})\n",
    "        discount = d.find(\"div\",attrs={\"class\":\"a-color-base\"}).findAll(\"span\",{\"class\":\"puis-light-weight-text\"})\n",
    "        #print(discount)\n",
    "        \n",
    "        all1=[]\n",
    "        if name is not None:\n",
    "            all1.append(name.text)\n",
    "            #print(name)\n",
    "        else:\n",
    "            all1.append(\"unknown-product\")\n",
    "\n",
    "        if rating is not None:\n",
    "            #print(rating.text)\n",
    "            all1.append(rating.text)\n",
    "        else:\n",
    "            all1.append('NA')\n",
    "\n",
    "        if customer_rated is not None:\n",
    "            #print(price.text)\n",
    "            all1.append(customer_rated.text)\n",
    "        else:\n",
    "            all1.append('0')\n",
    "\n",
    "        if discounted_price is not None:\n",
    "            #print(price.text)\n",
    "            try:\n",
    "                all1.append(discounted_price.text)\n",
    "            except:\n",
    "                return \"Scrapping Error In Discounted Price\"\n",
    "        else:\n",
    "            all1.append('NA')\n",
    "\n",
    "        if discount is not None:\n",
    "            #print(price.text)\n",
    "            try:\n",
    "                all1.append(discount[1].text)\n",
    "            except:\n",
    "                #all1.append(discount[0].text)\n",
    "                pass\n",
    "        else:\n",
    "            all1.append('NA')\n",
    "\n",
    "        if price is not None:\n",
    "            #print(price.text)\n",
    "            try:\n",
    "                all1.append(price.div.find('span',{'class':'a-text-price'}).span.text)\n",
    "            except Exception as e:\n",
    "                #print(e)\n",
    "                #return \" Something Is Wrong In Scrapping Price\"\n",
    "                pass \n",
    "        else:\n",
    "            all1.append('NA')\n",
    "            \n",
    "            \n",
    "            \n",
    "        alls.append(all1)    \n",
    "            \n",
    "            \n",
    "    return alls, product_id\n",
    "\n",
    "#get_data(1,amazon_url)"
   ]
  },
  {
   "cell_type": "raw",
   "id": "f0c0b02e-7ea4-4370-99b6-e1e5aa16c5d3",
   "metadata": {},
   "source": [
    "x, y = get_data(1,amazon_url)\n"
   ]
  },
  {
   "cell_type": "raw",
   "id": "dbff63a9-c655-450f-b31d-56007e800081",
   "metadata": {},
   "source": [
    "len(y)"
   ]
  },
  {
   "cell_type": "raw",
   "id": "c9abf32e-6389-4936-b97d-71759719062b",
   "metadata": {},
   "source": [
    "len(x)"
   ]
  },
  {
   "cell_type": "code",
   "execution_count": 22,
   "id": "88a9708f-7e72-4e0a-9498-117141e9d973",
   "metadata": {
    "scrolled": true,
    "tags": []
   },
   "outputs": [],
   "source": [
    "# Iterate over number of pages and fetch and proces the data to dataframe\n",
    "#no_pages=40\n",
    "# for loop for limiting the the number of times of retrials\n",
    "#incase of some problemm in executoing of following code\n",
    "\n",
    "\n",
    "def generate_DataFrame(number_of_pages,amazon_url):\n",
    "    count = 0 \n",
    "    while count<=30:\n",
    "        try:\n",
    "            no_pages= number_of_pages\n",
    "            results = []\n",
    "            for i in range(1, no_pages+1):\n",
    "                all_other, product_id = get_data(i,amazon_url)\n",
    "                results_all_other.append(all_other)\n",
    "                results_product_id.append(product_id)\n",
    "\n",
    "                flatten = lambda l: [item for sublist in l for item in sublist]\n",
    "                df = pd.DataFrame(flatten(results_all_other),columns=['Product Name','Rating','Customers Rated','Dicounted Price', 'Discount','Price'])\n",
    "                df.insert(0,\"Product ID\",flatten(results_product_id),allow_duplicates=True)\n",
    "                # Data Processing\n",
    "                break\n",
    "        except:\n",
    "            print(\"Retrying...\")\n",
    "            #continue\n",
    "            #time.sleep(3) # sleep time for execution of time\n",
    "        count +=1\n",
    "        \n",
    "    df['Rating'] = df['Rating'].apply(lambda x: x.split()[0])\n",
    "    #df[\"Price\"] = df[\"Price\"].str.replace('₹', '',regex=True)\n",
    "    \n",
    "    df[\"Price\"] = df[\"Price\"].str.replace(',', '',regex=True)\n",
    "    df[\"Customers Rated\"] = df[\"Customers Rated\"].str.replace('(', '',regex=True)\n",
    "    df[\"Customers Rated\"] = df[\"Customers Rated\"].str.replace(')', '',regex=True)\n",
    "    df[\"Discount\"] = df[\"Discount\"].str.replace('(', '',regex=True)\n",
    "    df[\"Discount\"] = df[\"Discount\"].str.replace(')', '',regex=True)\n",
    "    df[\"Discount\"] = df[\"Discount\"].str.replace(' off', '',regex=True)\n",
    "    \n",
    "    df.to_csv('amazon_products.csv', index=False, encoding='utf-8') # Export Dataframe to csv\n",
    "    #df\n",
    "\n",
    "    return df"
   ]
  },
  {
   "cell_type": "code",
   "execution_count": 23,
   "id": "004a81c9-f51a-423c-a77b-eab05e393d93",
   "metadata": {
    "collapsed": true,
    "jupyter": {
     "outputs_hidden": true
    },
    "tags": []
   },
   "outputs": [
    {
     "name": "stdout",
     "output_type": "stream",
     "text": [
      "Retrying...\n",
      "Retrying...\n",
      "Retrying...\n",
      "Retrying...\n",
      "Retrying...\n",
      "Retrying...\n",
      "Retrying...\n",
      "Retrying...\n",
      "Retrying...\n",
      "Retrying...\n",
      "Retrying...\n",
      "Retrying...\n",
      "Retrying...\n",
      "Retrying...\n",
      "Retrying...\n",
      "Retrying...\n",
      "Retrying...\n",
      "Retrying...\n",
      "Retrying...\n",
      "Retrying...\n",
      "Retrying...\n",
      "Retrying...\n",
      "Retrying...\n",
      "Retrying...\n",
      "Retrying...\n",
      "Retrying...\n",
      "Retrying...\n",
      "Retrying...\n",
      "Retrying...\n",
      "Retrying...\n",
      "Retrying...\n"
     ]
    },
    {
     "ename": "UnboundLocalError",
     "evalue": "local variable 'df' referenced before assignment",
     "output_type": "error",
     "traceback": [
      "\u001b[1;31m---------------------------------------------------------------------------\u001b[0m",
      "\u001b[1;31mUnboundLocalError\u001b[0m                         Traceback (most recent call last)",
      "Cell \u001b[1;32mIn [23], line 1\u001b[0m\n\u001b[1;32m----> 1\u001b[0m generate_DataFrame(\u001b[38;5;241m2\u001b[39m,amazon_url)\n",
      "Cell \u001b[1;32mIn [22], line 29\u001b[0m, in \u001b[0;36mgenerate_DataFrame\u001b[1;34m(number_of_pages, amazon_url)\u001b[0m\n\u001b[0;32m     25\u001b[0m         \u001b[38;5;66;03m#continue\u001b[39;00m\n\u001b[0;32m     26\u001b[0m         \u001b[38;5;66;03m#time.sleep(3) # sleep time for execution of time\u001b[39;00m\n\u001b[0;32m     27\u001b[0m     count \u001b[38;5;241m+\u001b[39m\u001b[38;5;241m=\u001b[39m\u001b[38;5;241m1\u001b[39m\n\u001b[1;32m---> 29\u001b[0m df[\u001b[38;5;124m'\u001b[39m\u001b[38;5;124mRating\u001b[39m\u001b[38;5;124m'\u001b[39m] \u001b[38;5;241m=\u001b[39m \u001b[43mdf\u001b[49m[\u001b[38;5;124m'\u001b[39m\u001b[38;5;124mRating\u001b[39m\u001b[38;5;124m'\u001b[39m]\u001b[38;5;241m.\u001b[39mapply(\u001b[38;5;28;01mlambda\u001b[39;00m x: x\u001b[38;5;241m.\u001b[39msplit()[\u001b[38;5;241m0\u001b[39m])\n\u001b[0;32m     30\u001b[0m \u001b[38;5;66;03m#df[\"Price\"] = df[\"Price\"].str.replace('₹', '',regex=True)\u001b[39;00m\n\u001b[0;32m     32\u001b[0m df[\u001b[38;5;124m\"\u001b[39m\u001b[38;5;124mPrice\u001b[39m\u001b[38;5;124m\"\u001b[39m] \u001b[38;5;241m=\u001b[39m df[\u001b[38;5;124m\"\u001b[39m\u001b[38;5;124mPrice\u001b[39m\u001b[38;5;124m\"\u001b[39m]\u001b[38;5;241m.\u001b[39mstr\u001b[38;5;241m.\u001b[39mreplace(\u001b[38;5;124m'\u001b[39m\u001b[38;5;124m,\u001b[39m\u001b[38;5;124m'\u001b[39m, \u001b[38;5;124m'\u001b[39m\u001b[38;5;124m'\u001b[39m,regex\u001b[38;5;241m=\u001b[39m\u001b[38;5;28;01mTrue\u001b[39;00m)\n",
      "\u001b[1;31mUnboundLocalError\u001b[0m: local variable 'df' referenced before assignment"
     ]
    }
   ],
   "source": [
    "generate_DataFrame(2,amazon_url)"
   ]
  },
  {
   "cell_type": "code",
   "execution_count": null,
   "id": "b3b0cd52-fb9c-4b46-be47-ac80f6355def",
   "metadata": {},
   "outputs": [],
   "source": []
  }
 ],
 "metadata": {
  "kernelspec": {
   "display_name": "Python 3 (ipykernel)",
   "language": "python",
   "name": "python3"
  },
  "language_info": {
   "codemirror_mode": {
    "name": "ipython",
    "version": 3
   },
   "file_extension": ".py",
   "mimetype": "text/x-python",
   "name": "python",
   "nbconvert_exporter": "python",
   "pygments_lexer": "ipython3",
   "version": "3.10.8"
  }
 },
 "nbformat": 4,
 "nbformat_minor": 5
}
